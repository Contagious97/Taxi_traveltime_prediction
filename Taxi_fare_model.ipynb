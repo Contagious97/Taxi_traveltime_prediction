{
 "cells": [
  {
   "cell_type": "code",
   "execution_count": 43,
   "metadata": {
    "pycharm": {
     "name": "#%%\n"
    }
   },
   "outputs": [],
   "source": [
    "#pip install fastparquet\n",
    "#pip install pyarrow"
   ]
  },
  {
   "cell_type": "code",
   "execution_count": 44,
   "metadata": {
    "pycharm": {
     "name": "#%%\n"
    }
   },
   "outputs": [],
   "source": [
    "import pyarrow.parquet as pq\n",
    "import numpy as np\n",
    "import pandas as pd\n",
    "from pathlib import Path\n",
    "import datetime"
   ]
  },
  {
   "cell_type": "markdown",
   "source": [
    "First we have to combine our files. These files are of the parquet format."
   ],
   "metadata": {
    "collapsed": false,
    "pycharm": {
     "name": "#%% md\n"
    }
   }
  },
  {
   "cell_type": "code",
   "execution_count": 45,
   "outputs": [],
   "source": [
    "# data_dir = Path('data/trips/tripdata')\n",
    "# full_df = pd.concat(\n",
    "#     pd.read_parquet(parquet_file)\n",
    "#     for parquet_file in data_dir.glob('*.parquet')\n",
    "# )\n",
    "# full_df.to_csv('tripdata.csv')"
   ],
   "metadata": {
    "collapsed": false,
    "pycharm": {
     "name": "#%%\n"
    }
   }
  },
  {
   "cell_type": "code",
   "execution_count": 46,
   "outputs": [],
   "source": [
    "def clean_data(data,type):\n",
    "    # print(\"Cleaning\"f\"{data}\", \"with the type\", type)\n",
    "    if type == 1:\n",
    "        data = data[data.get(\"fare_amount\")>2.5]\n",
    "        data = data[['tpep_pickup_datetime','tpep_dropoff_datetime','trip_distance','PULocationID','DOLocationID']]\n",
    "\n",
    "        data['tpep_pickup_datetime'] = pd.to_datetime(data['tpep_pickup_datetime'])\n",
    "        data['tpep_dropoff_datetime'] = pd.to_datetime(data['tpep_dropoff_datetime'])\n",
    "\n",
    "        data = data.drop(data[data['tpep_pickup_datetime'] >= data['tpep_dropoff_datetime']].index)\n",
    "        data['trip_time'] = (data['tpep_dropoff_datetime']-data['tpep_pickup_datetime']).dt.total_seconds()\n",
    "\n",
    "        data['tpep_pickup_datetime'] = (data['tpep_pickup_datetime']-data['tpep_pickup_datetime'].dt.normalize()).dt.total_seconds()\n",
    "        data['tpep_dropoff_datetime'] = (data['tpep_dropoff_datetime']-data['tpep_dropoff_datetime'].dt.normalize()).dt.total_seconds()\n",
    "        data.rename(columns = {'tpep_pickup_datetime':'pickup_time','tpep_dropoff_datetime':'dropoff_time'},inplace = True)\n",
    "\n",
    "        data = data[(data.PULocationID < 264) & (data.PULocationID > 0)]\n",
    "        data = data[(data.DOLocationID < 264) & (data.DOLocationID > 0)]\n",
    "        data = data[data.trip_time != 0]\n",
    "        data = data[data.trip_time < 20000]\n",
    "        data = data[data.trip_distance != 0.0]\n",
    "        data.info()\n",
    "        data.describe()\n",
    "\n",
    "    if type == 2:\n",
    "        data = data[data.get(\"fare_amount\")>2.5]\n",
    "        data = data[['lpep_pickup_datetime','lpep_dropoff_datetime','trip_distance','PULocationID','DOLocationID']]\n",
    "        data['lpep_pickup_datetime'] = pd.to_datetime(data['lpep_pickup_datetime'])\n",
    "        data['lpep_dropoff_datetime'] = pd.to_datetime(data['lpep_dropoff_datetime'])\n",
    "\n",
    "        data = data.drop(data[data['lpep_pickup_datetime'] >= data['lpep_dropoff_datetime']].index)\n",
    "        data['trip_time'] = (data['lpep_dropoff_datetime']-data['lpep_pickup_datetime']).dt.total_seconds()\n",
    "\n",
    "        data['lpep_pickup_datetime'] = (data['lpep_pickup_datetime']-data['lpep_pickup_datetime'].dt.normalize()).dt.total_seconds()\n",
    "        data['lpep_dropoff_datetime'] = (data['lpep_dropoff_datetime']-data['lpep_dropoff_datetime'].dt.normalize()).dt.total_seconds()\n",
    "        data.rename(columns = {'lpep_pickup_datetime':'pickup_time','lpep_dropoff_datetime':'dropoff_time'},inplace = True)\n",
    "\n",
    "        data = data[(data.PULocationID < 264) & (data.PULocationID > 0)]\n",
    "        data = data[(data.DOLocationID < 264) & (data.DOLocationID > 0)]\n",
    "        data = data[data.trip_time != 0]\n",
    "        data = data[data.trip_time < 20000]\n",
    "        data = data[data.trip_distance != 0.0]\n",
    "        data.info()\n",
    "        data.describe()\n",
    "    return data"
   ],
   "metadata": {
    "collapsed": false,
    "pycharm": {
     "name": "#%%\n"
    }
   }
  },
  {
   "cell_type": "code",
   "execution_count": 47,
   "outputs": [],
   "source": [
    "# def cleanValues(df):\n",
    "#     df = df[(df.PULocationID < 264) & (df.PULocationID > 0)]\n",
    "#     df = df[(df.DOLocationID < 264) & (df.DOLocationID > 0)]\n",
    "#     df = df[df.trip_time != 0]\n",
    "#     df = df[df.trip_time < 20000]\n",
    "#     df = df[df.trip_distance != 0.0]\n",
    "#     return df"
   ],
   "metadata": {
    "collapsed": false,
    "pycharm": {
     "name": "#%%\n"
    }
   }
  },
  {
   "cell_type": "code",
   "execution_count": 48,
   "outputs": [],
   "source": [
    "def missing_cols(df):\n",
    "    '''prints out columns with its amount of missing values'''\n",
    "    total = 0\n",
    "    for col in df.columns:\n",
    "        missing_vals = df[col].isnull().sum()\n",
    "        total += missing_vals\n",
    "        pct = df[col].isna().mean() * 100\n",
    "        if missing_vals != 0:\n",
    "            print(f\"{col} => {df[col].isnull().sum()},{round(pct,2)}%\")\n",
    "\n",
    "    if total == 0:\n",
    "        print(\"no missing values left\")"
   ],
   "metadata": {
    "collapsed": false,
    "pycharm": {
     "name": "#%%\n"
    }
   }
  },
  {
   "cell_type": "markdown",
   "source": [
    "The only algorithm reasonable to use for this amount of data were Linear Regression. Otherwise it would take too long to run. Other algorithms were used such as Random Forest Regressor, however this took unreasonable amount of time to run."
   ],
   "metadata": {
    "collapsed": false,
    "pycharm": {
     "name": "#%% md\n"
    }
   }
  },
  {
   "cell_type": "code",
   "execution_count": 49,
   "outputs": [],
   "source": [
    "def train(data):\n",
    "    from sklearn.model_selection import train_test_split\n",
    "    from sklearn.metrics import mean_squared_error, r2_score\n",
    "    from sklearn.linear_model import LinearRegression\n",
    "    from sklearn.linear_model import LogisticRegression\n",
    "    copy = data.copy()\n",
    "    copy[\"pickup_time\"] = (data[(\"pickup_time\")] - data[(\"pickup_time\")].mean()) / data[(\"pickup_time\")].std()\n",
    "    copy[\"trip_distance\"] = (data[(\"trip_distance\")] - data[(\"trip_distance\")].mean()) / data[(\"trip_distance\")].std()\n",
    "    copy[\"PULocationID\"] = (data[(\"PULocationID\")] - data[(\"PULocationID\")].mean()) / data[(\"PULocationID\")].std()\n",
    "    copy[\"DOLocationID\"] = (data[(\"DOLocationID\")] - data[(\"DOLocationID\")].mean()) / data[(\"DOLocationID\")].std()\n",
    "\n",
    "\n",
    "    #code = diabetes[\"Code\"]\n",
    "    copy[\"trip_time\"] = (data[(\"trip_time\")] - data[(\"trip_time\")].mean()) / data[(\"trip_time\")].std()\n",
    "\n",
    "    X = np.asarray(copy[[\"pickup_time\",\"trip_distance\",\"PULocationID\",\"DOLocationID\"]])\n",
    "    Y = np.asarray(copy[\"trip_time\"])\n",
    "\n",
    "    X_train, X_test, Y_train, Y_test = train_test_split(X,Y,test_size=0.33,random_state = 1)\n",
    "\n",
    "\n",
    "    lr = LinearRegression()\n",
    "    lr = lr.fit(X_train, Y_train)\n",
    "    Y_hat = lr.predict(X_test)\n",
    "    print(\"Linear Regression:\")\n",
    "    print(\"Accuracy: \",r2_score(Y_test, Y_hat))\n",
    "    print(\"Error: \",mean_squared_error(Y_test, Y_hat))\n",
    "    return lr\n",
    "\n",
    "\n",
    "    # print(\"-----------------------------------------------------\")\n",
    "    # #implement logistic regression\n",
    "    # lr = LogisticRegression()\n",
    "    # lr = lr.fit(X_train, Y_train)\n",
    "    # Y_hat = lr.predict(X_test)\n",
    "    # print(\"Logistic Regression:\")\n",
    "    # print(\"Accuracy: \",r2_score(Y_test, Y_hat))\n",
    "    # print(\"Error: \",mean_squared_error(Y_test, Y_hat))"
   ],
   "metadata": {
    "collapsed": false,
    "pycharm": {
     "name": "#%%\n"
    }
   }
  },
  {
   "cell_type": "code",
   "execution_count": 50,
   "outputs": [
    {
     "name": "stderr",
     "output_type": "stream",
     "text": [
      "100%|██████████| 20/20 [02:01<00:00,  6.09s/it]\n"
     ]
    }
   ],
   "source": [
    "\n",
    "import os\n",
    "from tqdm import tqdm\n",
    "from IPython.display import clear_output\n",
    "directory = 'data/trips'\n",
    "\n",
    "# iterate over files in\n",
    "# that directory\n",
    "full_df = pd.DataFrame()\n",
    "for filename in tqdm(os.listdir(directory)):\n",
    "    # f = os.path.join(directory, filename)\n",
    "    # checking if it is a file\n",
    "    # if os.path.isfile(f):\n",
    "    # if type of file is yellow_tripdata_2019-xx.parquet\n",
    "    if filename.startswith('yellow_tripdata_2019-'):\n",
    "        # read the file\n",
    "        df = pd.read_parquet(f\"{directory}/{filename}\")\n",
    "        df = clean_data(df,1) #Incomplete\n",
    "        # df = cleanValues(df)\n",
    "        # append to the full dataframe\n",
    "        full_df = full_df.append(df)\n",
    "    if filename.startswith('green_tripdata_2019-'):\n",
    "        # read the file\n",
    "        # print(f\"{filename}\")\n",
    "        # print(f\"{directory}/{filename}\")\n",
    "        df = pd.read_parquet(f\"{directory}/{filename}\")\n",
    "        df = clean_data(df,2) #Incomplete\n",
    "        # df = cleanValues(df)\n",
    "        # append to the full dataframe\n",
    "        full_df = full_df.append(df)\n",
    "    clear_output(wait=True)\n",
    "\n",
    "#pd.show_versions()\n",
    "# ytd = pq.read_table(\"data/trips/tripdata/yellow_tripdata_2019-01.parquet\").to_pandas()\n",
    "# gtd = pq.read_table(\"data/trips/tripdata/green_tripdata_2019-01.parquet\").to_pandas()\n",
    "# fhvtd = pq.read_table(\"data/trips/tripdata/fhv_tripdata_2019-01.parquet\").to_pandas()\n"
   ],
   "metadata": {
    "collapsed": false,
    "pycharm": {
     "name": "#%%\n"
    }
   }
  },
  {
   "cell_type": "code",
   "execution_count": 51,
   "outputs": [
    {
     "data": {
      "text/plain": "         pickup_time  dropoff_time  trip_distance  PULocationID  DOLocationID  \\\n1              616.0         992.0           0.86            97            49   \n2             1631.0        1898.0           0.66            49           189   \n3             2780.0        3894.0           2.68           189            17   \n4             1146.0        2383.0           4.53            82           258   \n5              755.0        1149.0           1.05            49            17   \n...              ...           ...            ...           ...           ...   \n7213886      84000.0       86160.0          19.53            77           119   \n7213887      85320.0         420.0           4.96           238           137   \n7213888      85835.0         525.0           4.63           186           166   \n7213889      84566.0       86355.0          17.49            45           122   \n7213890      85920.0        2340.0          15.97           140            91   \n\n         trip_time  \n1            376.0  \n2            267.0  \n3           1114.0  \n4           1237.0  \n5            394.0  \n...            ...  \n7213886     2160.0  \n7213887     1500.0  \n7213888     1090.0  \n7213889     1789.0  \n7213890     2820.0  \n\n[74163149 rows x 6 columns]",
      "text/html": "<div>\n<style scoped>\n    .dataframe tbody tr th:only-of-type {\n        vertical-align: middle;\n    }\n\n    .dataframe tbody tr th {\n        vertical-align: top;\n    }\n\n    .dataframe thead th {\n        text-align: right;\n    }\n</style>\n<table border=\"1\" class=\"dataframe\">\n  <thead>\n    <tr style=\"text-align: right;\">\n      <th></th>\n      <th>pickup_time</th>\n      <th>dropoff_time</th>\n      <th>trip_distance</th>\n      <th>PULocationID</th>\n      <th>DOLocationID</th>\n      <th>trip_time</th>\n    </tr>\n  </thead>\n  <tbody>\n    <tr>\n      <th>1</th>\n      <td>616.0</td>\n      <td>992.0</td>\n      <td>0.86</td>\n      <td>97</td>\n      <td>49</td>\n      <td>376.0</td>\n    </tr>\n    <tr>\n      <th>2</th>\n      <td>1631.0</td>\n      <td>1898.0</td>\n      <td>0.66</td>\n      <td>49</td>\n      <td>189</td>\n      <td>267.0</td>\n    </tr>\n    <tr>\n      <th>3</th>\n      <td>2780.0</td>\n      <td>3894.0</td>\n      <td>2.68</td>\n      <td>189</td>\n      <td>17</td>\n      <td>1114.0</td>\n    </tr>\n    <tr>\n      <th>4</th>\n      <td>1146.0</td>\n      <td>2383.0</td>\n      <td>4.53</td>\n      <td>82</td>\n      <td>258</td>\n      <td>1237.0</td>\n    </tr>\n    <tr>\n      <th>5</th>\n      <td>755.0</td>\n      <td>1149.0</td>\n      <td>1.05</td>\n      <td>49</td>\n      <td>17</td>\n      <td>394.0</td>\n    </tr>\n    <tr>\n      <th>...</th>\n      <td>...</td>\n      <td>...</td>\n      <td>...</td>\n      <td>...</td>\n      <td>...</td>\n      <td>...</td>\n    </tr>\n    <tr>\n      <th>7213886</th>\n      <td>84000.0</td>\n      <td>86160.0</td>\n      <td>19.53</td>\n      <td>77</td>\n      <td>119</td>\n      <td>2160.0</td>\n    </tr>\n    <tr>\n      <th>7213887</th>\n      <td>85320.0</td>\n      <td>420.0</td>\n      <td>4.96</td>\n      <td>238</td>\n      <td>137</td>\n      <td>1500.0</td>\n    </tr>\n    <tr>\n      <th>7213888</th>\n      <td>85835.0</td>\n      <td>525.0</td>\n      <td>4.63</td>\n      <td>186</td>\n      <td>166</td>\n      <td>1090.0</td>\n    </tr>\n    <tr>\n      <th>7213889</th>\n      <td>84566.0</td>\n      <td>86355.0</td>\n      <td>17.49</td>\n      <td>45</td>\n      <td>122</td>\n      <td>1789.0</td>\n    </tr>\n    <tr>\n      <th>7213890</th>\n      <td>85920.0</td>\n      <td>2340.0</td>\n      <td>15.97</td>\n      <td>140</td>\n      <td>91</td>\n      <td>2820.0</td>\n    </tr>\n  </tbody>\n</table>\n<p>74163149 rows × 6 columns</p>\n</div>"
     },
     "metadata": {},
     "output_type": "display_data"
    },
    {
     "name": "stdout",
     "output_type": "stream",
     "text": [
      "no missing values left\n"
     ]
    }
   ],
   "source": [
    "display(full_df)\n",
    "missing_cols(full_df)"
   ],
   "metadata": {
    "collapsed": false,
    "pycharm": {
     "name": "#%%\n"
    }
   }
  },
  {
   "cell_type": "code",
   "execution_count": 52,
   "outputs": [
    {
     "name": "stdout",
     "output_type": "stream",
     "text": [
      "no missing values left\n"
     ]
    },
    {
     "data": {
      "text/plain": "         pickup_time  dropoff_time  trip_distance  PULocationID  DOLocationID  \\\n1              616.0         992.0           0.86            97            49   \n2             1631.0        1898.0           0.66            49           189   \n3             2780.0        3894.0           2.68           189            17   \n4             1146.0        2383.0           4.53            82           258   \n5              755.0        1149.0           1.05            49            17   \n...              ...           ...            ...           ...           ...   \n7213886      84000.0       86160.0          19.53            77           119   \n7213887      85320.0         420.0           4.96           238           137   \n7213888      85835.0         525.0           4.63           186           166   \n7213889      84566.0       86355.0          17.49            45           122   \n7213890      85920.0        2340.0          15.97           140            91   \n\n         trip_time  \n1            376.0  \n2            267.0  \n3           1114.0  \n4           1237.0  \n5            394.0  \n...            ...  \n7213886     2160.0  \n7213887     1500.0  \n7213888     1090.0  \n7213889     1789.0  \n7213890     2820.0  \n\n[74163149 rows x 6 columns]",
      "text/html": "<div>\n<style scoped>\n    .dataframe tbody tr th:only-of-type {\n        vertical-align: middle;\n    }\n\n    .dataframe tbody tr th {\n        vertical-align: top;\n    }\n\n    .dataframe thead th {\n        text-align: right;\n    }\n</style>\n<table border=\"1\" class=\"dataframe\">\n  <thead>\n    <tr style=\"text-align: right;\">\n      <th></th>\n      <th>pickup_time</th>\n      <th>dropoff_time</th>\n      <th>trip_distance</th>\n      <th>PULocationID</th>\n      <th>DOLocationID</th>\n      <th>trip_time</th>\n    </tr>\n  </thead>\n  <tbody>\n    <tr>\n      <th>1</th>\n      <td>616.0</td>\n      <td>992.0</td>\n      <td>0.86</td>\n      <td>97</td>\n      <td>49</td>\n      <td>376.0</td>\n    </tr>\n    <tr>\n      <th>2</th>\n      <td>1631.0</td>\n      <td>1898.0</td>\n      <td>0.66</td>\n      <td>49</td>\n      <td>189</td>\n      <td>267.0</td>\n    </tr>\n    <tr>\n      <th>3</th>\n      <td>2780.0</td>\n      <td>3894.0</td>\n      <td>2.68</td>\n      <td>189</td>\n      <td>17</td>\n      <td>1114.0</td>\n    </tr>\n    <tr>\n      <th>4</th>\n      <td>1146.0</td>\n      <td>2383.0</td>\n      <td>4.53</td>\n      <td>82</td>\n      <td>258</td>\n      <td>1237.0</td>\n    </tr>\n    <tr>\n      <th>5</th>\n      <td>755.0</td>\n      <td>1149.0</td>\n      <td>1.05</td>\n      <td>49</td>\n      <td>17</td>\n      <td>394.0</td>\n    </tr>\n    <tr>\n      <th>...</th>\n      <td>...</td>\n      <td>...</td>\n      <td>...</td>\n      <td>...</td>\n      <td>...</td>\n      <td>...</td>\n    </tr>\n    <tr>\n      <th>7213886</th>\n      <td>84000.0</td>\n      <td>86160.0</td>\n      <td>19.53</td>\n      <td>77</td>\n      <td>119</td>\n      <td>2160.0</td>\n    </tr>\n    <tr>\n      <th>7213887</th>\n      <td>85320.0</td>\n      <td>420.0</td>\n      <td>4.96</td>\n      <td>238</td>\n      <td>137</td>\n      <td>1500.0</td>\n    </tr>\n    <tr>\n      <th>7213888</th>\n      <td>85835.0</td>\n      <td>525.0</td>\n      <td>4.63</td>\n      <td>186</td>\n      <td>166</td>\n      <td>1090.0</td>\n    </tr>\n    <tr>\n      <th>7213889</th>\n      <td>84566.0</td>\n      <td>86355.0</td>\n      <td>17.49</td>\n      <td>45</td>\n      <td>122</td>\n      <td>1789.0</td>\n    </tr>\n    <tr>\n      <th>7213890</th>\n      <td>85920.0</td>\n      <td>2340.0</td>\n      <td>15.97</td>\n      <td>140</td>\n      <td>91</td>\n      <td>2820.0</td>\n    </tr>\n  </tbody>\n</table>\n<p>74163149 rows × 6 columns</p>\n</div>"
     },
     "metadata": {},
     "output_type": "display_data"
    }
   ],
   "source": [
    "# cleanValues(full_df)\n",
    "full_df.dropna(inplace=True)\n",
    "missing_cols(full_df)\n",
    "display(full_df)"
   ],
   "metadata": {
    "collapsed": false,
    "pycharm": {
     "name": "#%%\n"
    }
   }
  },
  {
   "cell_type": "code",
   "execution_count": 53,
   "outputs": [
    {
     "name": "stdout",
     "output_type": "stream",
     "text": [
      "no missing values left\n"
     ]
    },
    {
     "data": {
      "text/plain": "         pickup_time  dropoff_time  trip_distance  PULocationID  DOLocationID  \\\n1              616.0         992.0           0.86            97            49   \n2             1631.0        1898.0           0.66            49           189   \n3             2780.0        3894.0           2.68           189            17   \n4             1146.0        2383.0           4.53            82           258   \n5              755.0        1149.0           1.05            49            17   \n...              ...           ...            ...           ...           ...   \n7213886      84000.0       86160.0          19.53            77           119   \n7213887      85320.0         420.0           4.96           238           137   \n7213888      85835.0         525.0           4.63           186           166   \n7213889      84566.0       86355.0          17.49            45           122   \n7213890      85920.0        2340.0          15.97           140            91   \n\n         trip_time  \n1            376.0  \n2            267.0  \n3           1114.0  \n4           1237.0  \n5            394.0  \n...            ...  \n7213886     2160.0  \n7213887     1500.0  \n7213888     1090.0  \n7213889     1789.0  \n7213890     2820.0  \n\n[74163149 rows x 6 columns]",
      "text/html": "<div>\n<style scoped>\n    .dataframe tbody tr th:only-of-type {\n        vertical-align: middle;\n    }\n\n    .dataframe tbody tr th {\n        vertical-align: top;\n    }\n\n    .dataframe thead th {\n        text-align: right;\n    }\n</style>\n<table border=\"1\" class=\"dataframe\">\n  <thead>\n    <tr style=\"text-align: right;\">\n      <th></th>\n      <th>pickup_time</th>\n      <th>dropoff_time</th>\n      <th>trip_distance</th>\n      <th>PULocationID</th>\n      <th>DOLocationID</th>\n      <th>trip_time</th>\n    </tr>\n  </thead>\n  <tbody>\n    <tr>\n      <th>1</th>\n      <td>616.0</td>\n      <td>992.0</td>\n      <td>0.86</td>\n      <td>97</td>\n      <td>49</td>\n      <td>376.0</td>\n    </tr>\n    <tr>\n      <th>2</th>\n      <td>1631.0</td>\n      <td>1898.0</td>\n      <td>0.66</td>\n      <td>49</td>\n      <td>189</td>\n      <td>267.0</td>\n    </tr>\n    <tr>\n      <th>3</th>\n      <td>2780.0</td>\n      <td>3894.0</td>\n      <td>2.68</td>\n      <td>189</td>\n      <td>17</td>\n      <td>1114.0</td>\n    </tr>\n    <tr>\n      <th>4</th>\n      <td>1146.0</td>\n      <td>2383.0</td>\n      <td>4.53</td>\n      <td>82</td>\n      <td>258</td>\n      <td>1237.0</td>\n    </tr>\n    <tr>\n      <th>5</th>\n      <td>755.0</td>\n      <td>1149.0</td>\n      <td>1.05</td>\n      <td>49</td>\n      <td>17</td>\n      <td>394.0</td>\n    </tr>\n    <tr>\n      <th>...</th>\n      <td>...</td>\n      <td>...</td>\n      <td>...</td>\n      <td>...</td>\n      <td>...</td>\n      <td>...</td>\n    </tr>\n    <tr>\n      <th>7213886</th>\n      <td>84000.0</td>\n      <td>86160.0</td>\n      <td>19.53</td>\n      <td>77</td>\n      <td>119</td>\n      <td>2160.0</td>\n    </tr>\n    <tr>\n      <th>7213887</th>\n      <td>85320.0</td>\n      <td>420.0</td>\n      <td>4.96</td>\n      <td>238</td>\n      <td>137</td>\n      <td>1500.0</td>\n    </tr>\n    <tr>\n      <th>7213888</th>\n      <td>85835.0</td>\n      <td>525.0</td>\n      <td>4.63</td>\n      <td>186</td>\n      <td>166</td>\n      <td>1090.0</td>\n    </tr>\n    <tr>\n      <th>7213889</th>\n      <td>84566.0</td>\n      <td>86355.0</td>\n      <td>17.49</td>\n      <td>45</td>\n      <td>122</td>\n      <td>1789.0</td>\n    </tr>\n    <tr>\n      <th>7213890</th>\n      <td>85920.0</td>\n      <td>2340.0</td>\n      <td>15.97</td>\n      <td>140</td>\n      <td>91</td>\n      <td>2820.0</td>\n    </tr>\n  </tbody>\n</table>\n<p>74163149 rows × 6 columns</p>\n</div>"
     },
     "metadata": {},
     "output_type": "display_data"
    }
   ],
   "source": [
    "missing_cols(full_df)\n",
    "display(full_df)"
   ],
   "metadata": {
    "collapsed": false,
    "pycharm": {
     "name": "#%%\n"
    }
   }
  },
  {
   "cell_type": "code",
   "execution_count": 54,
   "outputs": [
    {
     "name": "stdout",
     "output_type": "stream",
     "text": [
      "Linear Regression:\n",
      "Accuracy:  0.6325533423972198\n",
      "Error:  0.3671408139598347\n"
     ]
    }
   ],
   "source": [
    "lr = train(full_df)\n"
   ],
   "metadata": {
    "collapsed": false,
    "pycharm": {
     "name": "#%%\n"
    }
   }
  },
  {
   "cell_type": "code",
   "execution_count": 58,
   "outputs": [],
   "source": [
    "import pickle\n",
    "with open('model.pickle', 'wb') as f:\n",
    "    pickle.dump(lr, f)"
   ],
   "metadata": {
    "collapsed": false,
    "pycharm": {
     "name": "#%%\n"
    }
   }
  },
  {
   "cell_type": "code",
   "execution_count": 60,
   "outputs": [],
   "source": [],
   "metadata": {
    "collapsed": false,
    "pycharm": {
     "name": "#%%\n"
    }
   }
  }
 ],
 "metadata": {
  "kernelspec": {
   "display_name": "Python 3",
   "language": "python",
   "name": "python3"
  },
  "language_info": {
   "codemirror_mode": {
    "name": "ipython",
    "version": 3
   },
   "file_extension": ".py",
   "mimetype": "text/x-python",
   "name": "python",
   "nbconvert_exporter": "python",
   "pygments_lexer": "ipython3",
   "version": "3.7.6"
  }
 },
 "nbformat": 4,
 "nbformat_minor": 4
}